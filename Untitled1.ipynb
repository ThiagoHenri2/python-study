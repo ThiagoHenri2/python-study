{
  "nbformat": 4,
  "nbformat_minor": 0,
  "metadata": {
    "colab": {
      "provenance": [],
      "collapsed_sections": [],
      "authorship_tag": "ABX9TyOn3D6xNO86uhewJAZoxYYo",
      "include_colab_link": true
    },
    "kernelspec": {
      "name": "python3",
      "display_name": "Python 3"
    },
    "language_info": {
      "name": "python"
    }
  },
  "cells": [
    {
      "cell_type": "markdown",
      "metadata": {
        "id": "view-in-github",
        "colab_type": "text"
      },
      "source": [
        "<a href=\"https://colab.research.google.com/github/ThiagoHenri2/python-study/blob/main/Untitled1.ipynb\" target=\"_parent\"><img src=\"https://colab.research.google.com/assets/colab-badge.svg\" alt=\"Open In Colab\"/></a>"
      ]
    },
    {
      "cell_type": "code",
      "execution_count": null,
      "metadata": {
        "id": "gZs4R-DuVcZ6"
      },
      "outputs": [],
      "source": [
        "import pandas as pd\n",
        "import streamlit as st\n",
        "st.header('RECOMENDADOR DE ANIMES')\n",
        "df_anime = pd.read_csv('anime.csv')\n",
        "df_notas = pd.read_csv('rating.csv')\n",
        "\n",
        "df = pd.merge(df_notas, df_anime.drop('rating', axis=1), on='anime_id')\n",
        "\n",
        "df.groupby('name')['rating'].count().sort_values(ascending=False).head(10)\n",
        "\n",
        "notas = pd.DataFrame(df.groupby('name')['rating'].mean())\n",
        "notas['numero de avaliações'] = pd.DataFrame(df.groupby('name')['rating'].count())\n",
        "notas['avaliação média'] = pd.DataFrame(df.groupby('name')['rating'].mean().round(2))\n",
        "\n",
        "genero = pd.DataFrame(data=df_anime[['name', 'genre']])\n",
        "genero.set_index('name', inplace=True)\n",
        "\n",
        "nome_do_anime = st.sidebar.selectbox('Animes', df_anime['name'])\n",
        "\n",
        "\n",
        "def verificar_genero(lista_genero, string):\n",
        "    if any(x in string for x in lista_genero):\n",
        "        return True\n",
        "    else:\n",
        "        return False\n",
        "\n",
        "def recomendar_anime(nome_do_anime, n):\n",
        "    genero_anime = genero.loc[nome_do_anime].values[0].split(', ')\n",
        "    cols = df_anime[df_anime['genre'].apply(lambda x: verificar_genero(genero_anime, str(x)))]['name'].tolist()\n",
        "    matriz_de_animes = df[df['name'].isin(cols)].pivot_table(index='user_id', columns='name', values='rating')\n",
        "    anime_nota = matriz_de_animes[nome_do_anime]\n",
        "    anime_parecido = matriz_de_animes.corrwith(anime_nota)\n",
        "    anime_correlacionado = pd.DataFrame(anime_parecido, columns=['correlação'])\n",
        "    anime_correlacionado = anime_correlacionado.join(notas[['numero de avaliações', 'avaliação média']])\n",
        "    anime_correlacionado.dropna(inplace=True)\n",
        "    animes_recomendados = anime_correlacionado[anime_correlacionado['numero de avaliações'] > 3000].sort_values(\n",
        "        'correlação', ascending=False)\n",
        "    animes_recomendados = animes_recomendados.rename_axis('Animes recomendados')\n",
        "    return animes_recomendados.head(n + 1)\n",
        "\n",
        "\n",
        "df_final = recomendar_anime(nome_do_anime, 5)\n",
        "st.write('Recomendados:')\n",
        "st.dataframe(df_final)\n",
        "Footer"
      ]
    }
  ]
}