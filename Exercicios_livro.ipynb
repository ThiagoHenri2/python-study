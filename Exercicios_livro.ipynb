{
  "nbformat": 4,
  "nbformat_minor": 0,
  "metadata": {
    "colab": {
      "name": "Exercicios livro.ipynb",
      "provenance": [],
      "collapsed_sections": []
    },
    "kernelspec": {
      "name": "python3",
      "display_name": "Python 3"
    },
    "language_info": {
      "name": "python"
    }
  },
  "cells": [
    {
      "cell_type": "code",
      "execution_count": null,
      "metadata": {
        "colab": {
          "base_uri": "https://localhost:8080/"
        },
        "id": "yOSdYr59Ttl-",
        "outputId": "18a11aae-1128-4d81-87e1-9591191e4224"
      },
      "outputs": [
        {
          "output_type": "stream",
          "name": "stdout",
          "text": [
            "Digite o um valor inteiro: 2\n",
            "Digite um valor inteiro: 3\n",
            "5\n"
          ]
        }
      ],
      "source": [
        "Primeiro_numero = int(input(\"Digite o um valor inteiro: \"))\n",
        "Segundo_numero = int(input(\"Digite um valor inteiro: \"))\n",
        "print(Primeiro_numero+Segundo_numero)\n"
      ]
    },
    {
      "cell_type": "code",
      "source": [
        "metros = float(input(\"escreva um valor em metros: \"))\n",
        "MM = metros*1000\n",
        "print(\"O valor em milimetros é de: \", MM)"
      ],
      "metadata": {
        "colab": {
          "base_uri": "https://localhost:8080/"
        },
        "id": "egoC2sq-UbwO",
        "outputId": "6a3df91d-6fde-467e-d651-9beca43225e0"
      },
      "execution_count": null,
      "outputs": [
        {
          "output_type": "stream",
          "name": "stdout",
          "text": [
            "escreva um valor em metros: 10\n",
            "O valor em milimetros é de:  10000.0\n"
          ]
        }
      ]
    },
    {
      "cell_type": "code",
      "source": [
        "dias = int(input(\"escreva a quantidade de dias: \"))\n",
        "horas = float(input(\"Escreva a quantidade de horas: \"))\n",
        "minutos = float(input(\"Escreva a quantidade de minutos: \"))\n",
        "segundos = float(input(\"Escreva a quantidade de segundos: \"))\n",
        "Total_em_segundos = ((dias*216000)+(horas*3600)+(minutos*60)+segundos)\n",
        "print(\"O total de segundos é de: \", Total_em_segundos)"
      ],
      "metadata": {
        "colab": {
          "base_uri": "https://localhost:8080/"
        },
        "id": "hehoJ8S1U4oN",
        "outputId": "e19181be-cdff-4dc6-8d0e-ca3493766ca5"
      },
      "execution_count": null,
      "outputs": [
        {
          "output_type": "stream",
          "name": "stdout",
          "text": [
            "escreva a quantidade de dias: 5\n",
            "Escreva a quantidade de horas: 10\n",
            "Escreva a quantidade de minutos: 25\n",
            "Escreva a quantidade de segundos: 45\n",
            "O total de segundos é de:  1117545.0\n"
          ]
        }
      ]
    },
    {
      "cell_type": "code",
      "source": [
        "salario_antigo = float(input(\"Digite o valor do salario atual: \"))\n",
        "porcentagem = float(input(\"Digite o valor da porcentagem: \"))\n",
        "salario_novo = salario_antigo*(1+porcentagem/100)\n",
        "print(\"o salario antigo era de R${} a porcentagem de aumento foi de, %{} e o novo salario é R${}\".format(salario_antigo,porcentagem,salario_novo))"
      ],
      "metadata": {
        "colab": {
          "base_uri": "https://localhost:8080/"
        },
        "id": "wnlQ_KNrWfTh",
        "outputId": "bfa7b9ef-8a9e-4acb-c35c-f37b932b94e6"
      },
      "execution_count": null,
      "outputs": [
        {
          "output_type": "stream",
          "name": "stdout",
          "text": [
            "Digite o valor do salario atual: 1000\n",
            "Digite o valor da porcentagem: 5\n",
            "o salario antigo era de R$1000.0 a porcentagem de aumento foi de, %5.0 e o novo salario é R$1050.0\n"
          ]
        }
      ]
    },
    {
      "cell_type": "code",
      "source": [
        "Preço = float(input(\"Digite o valor da mercadoria: \"))\n",
        "Percentual = float(input(\"Digite o valor do desconto: \"))\n",
        "Desconto = Preço*(1-Percentual/100)\n",
        "print(\"O valor da mercadoria era de R${} aplicando o desconto de %{} o novo valor da mercadoria será de: R${} \".format(Preço,Percentual,Desconto))\n"
      ],
      "metadata": {
        "colab": {
          "base_uri": "https://localhost:8080/"
        },
        "id": "VoALdgP2adDg",
        "outputId": "20157cd4-931a-494e-e553-88c66d1b159e"
      },
      "execution_count": null,
      "outputs": [
        {
          "output_type": "stream",
          "name": "stdout",
          "text": [
            "Digite o valor da mercadoria: 100\n",
            "Digite o valor do desconto: 5\n",
            "O valor da mercadoria era de R$100.0 aplicando o desconto de %5.0 o novo valor da mercadoria será de: R$95.0 \n"
          ]
        }
      ]
    },
    {
      "cell_type": "code",
      "source": [
        "#distancia é igual e valocidade x tempo\n",
        "Velocidade = int(input(\"Digite a velocidade média: \"))\n",
        "distancia = float(input(\"Digite a distância da viagem: \"))\n",
        "tempo = (distancia/Velocidade)\n",
        "print(\"O tempo de viagem será de {} horas\" . format(tempo))"
      ],
      "metadata": {
        "colab": {
          "base_uri": "https://localhost:8080/"
        },
        "id": "sDCf9eICcLEd",
        "outputId": "4c06c762-1a59-4a0b-b1f6-084ef6fb6a1c"
      },
      "execution_count": null,
      "outputs": [
        {
          "output_type": "stream",
          "name": "stdout",
          "text": [
            "Digite a velocidade média: 100\n",
            "Digite a distância da viagem: 1000\n",
            "O tempo de viagem será de 10.0 horas\n"
          ]
        }
      ]
    },
    {
      "cell_type": "code",
      "source": [
        "celsius = float(input(\"Digite o valor em graus celsius: \"))\n",
        "fahrenheit = ((9*celsius)/5)+32\n",
        "print(\"A conversão de {} graus celcius em fahrenheit é de {} graus fahrenheit\" .format(celsius,fahrenheit))\n"
      ],
      "metadata": {
        "colab": {
          "base_uri": "https://localhost:8080/"
        },
        "id": "Z8BfaPHTeGqp",
        "outputId": "4efd45d3-062b-46ae-db1e-46819f85d39d"
      },
      "execution_count": null,
      "outputs": [
        {
          "output_type": "stream",
          "name": "stdout",
          "text": [
            "Digite o valor em graus celsius: 32\n",
            "A conversão de 32.0 graus celcius em fahrenheit é de 89.6 graus fahrenheit\n"
          ]
        }
      ]
    },
    {
      "cell_type": "code",
      "source": [
        "km = float(input(\"Digite o valor de Km gastos na viagem: \"))\n",
        "dias= int(input(\"Digite o valor de dias gastos na viagem: \"))\n",
        "preco = ((km*0.15)+(60*dias))\n",
        "print(\"Foram gastos {} dias e {} kilometros na viagem, portanto o preço total gasto será de R${}\" .format(dias,km,preco))\n"
      ],
      "metadata": {
        "colab": {
          "base_uri": "https://localhost:8080/"
        },
        "id": "vla2Bk7UfZW3",
        "outputId": "ef8702fd-b048-497e-fe7b-93d75807754a"
      },
      "execution_count": null,
      "outputs": [
        {
          "output_type": "stream",
          "name": "stdout",
          "text": [
            "Digite o valor de Km gastos na viagem: 100\n",
            "Digite o valor de dias gastos na viagem: 5\n",
            "Foram gastos 5 dias e 100.0 kilometros na viagem, portanto o preço total gasto será de R$315.0\n"
          ]
        }
      ]
    },
    {
      "cell_type": "code",
      "source": [
        "cigarros_dias = int(input(\"Digite a quantidade de cigarros fumados ao dia: \"))\n",
        "anos = float(input(\"Digite a quantidade de anos que ja fumou: \"))\n",
        "anos_dias = anos*365\n",
        "tempo_de_vida_perdido = (anos_dias*(cigarros_dias*10))\n",
        "print(\"Por ter fumado {} cigarros, duarante {} anos, você perdeu {} minutos de vida\" .format(cigarros_dias,anos,tempo_de_vida_perdido))  "
      ],
      "metadata": {
        "colab": {
          "base_uri": "https://localhost:8080/"
        },
        "id": "Eg-Zurkwgsqr",
        "outputId": "559d1b99-50a6-4524-9e49-17d82f3a4a38"
      },
      "execution_count": null,
      "outputs": [
        {
          "output_type": "stream",
          "name": "stdout",
          "text": [
            "Digite a quantidade de cigarros fumados ao dia: 10\n",
            "Digite a quantidade de anos que ja fumou: 1\n",
            "Por ter fumado 10 cigarros, duarante 1.0 anos, você perdeu 36500.0 minutos de vida\n"
          ]
        }
      ]
    },
    {
      "cell_type": "code",
      "source": [
        "a= 4\n",
        "b = 5\n",
        "if a>b:\n",
        "  print(a)\n",
        "if b>a:\n",
        "  print(b)\n"
      ],
      "metadata": {
        "colab": {
          "base_uri": "https://localhost:8080/"
        },
        "id": "W2NWuCWg7FEG",
        "outputId": "c8f247b6-2ecd-488a-a64c-6200db82b1f8"
      },
      "execution_count": null,
      "outputs": [
        {
          "output_type": "stream",
          "name": "stdout",
          "text": [
            "5\n"
          ]
        }
      ]
    },
    {
      "cell_type": "code",
      "source": [
        "vel = int(input(\"Digite a velocidade de seu carro: \"))\n",
        "multa= (vel-80)*5\n",
        "if vel > 80:\n",
        "  print(\"Você ultrapassou a velocidade limite\")\n",
        "  print(\"O valor da multa foi de R${}\".format(multa))\n"
      ],
      "metadata": {
        "colab": {
          "base_uri": "https://localhost:8080/"
        },
        "id": "qkovCtTv71VU",
        "outputId": "a4c035d8-6ae3-4fd1-9c69-d83eeebd6f2e"
      },
      "execution_count": null,
      "outputs": [
        {
          "output_type": "stream",
          "name": "stdout",
          "text": [
            "Digite a velocidade de seu carro: 90\n",
            "Você ultrapassou a velocidade limite\n",
            "O valor da multa foi de R$50\n"
          ]
        }
      ]
    },
    {
      "cell_type": "code",
      "source": [
        "salario = float(input(\"digite o valor do seu salario:\"))\n",
        "imposto = 0\n",
        "base = salario\n",
        "if salario>1000 and salario<3000:\n",
        "  imposto = (base-1000)*0.2\n",
        "  print(\"o valor do imposto cobrado sobre o salario de R${} é de R${}\".format(salario,imposto))\n",
        "elif salario>3000:\n",
        "  imposto = (base-3000)*0.35\n",
        "  print(\"o valor do imposto cobrado sobre o salario de R${} é de R${}\".format(salario,imposto))\n",
        "else: \n",
        "  print(\"como o valor do salario é inferior a R$1000, não será cobrado imposto\")"
      ],
      "metadata": {
        "colab": {
          "base_uri": "https://localhost:8080/"
        },
        "id": "3Ce1tJen90Kz",
        "outputId": "9eedbe35-975d-4604-a6e2-3984411eebf0"
      },
      "execution_count": null,
      "outputs": [
        {
          "output_type": "stream",
          "name": "stdout",
          "text": [
            "digite o valor do seu salario:1500\n",
            "o valor do imposto cobrado sobre o salario de R$1500.0 é de R$100.0\n"
          ]
        }
      ]
    },
    {
      "cell_type": "code",
      "source": [
        "num_1 = float(input(\"Digite um numero:\"))\n",
        "num_2 = float(input(\"Digite um numero:\"))\n",
        "num_3 = float(input(\"Digite um numero:\"))\n",
        "if num_1>num_2 and num_1>num_3:\n",
        "  print(\"O {} é o maior\".format(num_1))\n",
        "elif num_2>num_1 and num_2>num_3:\n",
        "  print(\"O {} é o maior\".format(num_2))\n",
        "else:\n",
        "  print(\"O {} é o maior\".format(num_3))\n",
        "\n",
        "if num_1<num_2 and num_1<num_3:\n",
        "  print(\"O {} é o menor\".format(num_1))\n",
        "elif num_2<num_1 and num_2<num_3:\n",
        "  print(\"O {} é o menor\".format(num_2))\n",
        "else:\n",
        "  print(\"O {} é o menor\".format(num_3))\n",
        "\n"
      ],
      "metadata": {
        "colab": {
          "base_uri": "https://localhost:8080/"
        },
        "id": "x2ysscagBMEY",
        "outputId": "f8c9a645-5e1a-4267-f8ee-26ec4225eda6"
      },
      "execution_count": null,
      "outputs": [
        {
          "output_type": "stream",
          "name": "stdout",
          "text": [
            "Digite um numero:28\n",
            "Digite um numero:11\n",
            "Digite um numero:97\n",
            "O 97.0 é o maior\n",
            "O 11.0 é o menor\n"
          ]
        }
      ]
    },
    {
      "cell_type": "code",
      "source": [
        "salario = float(input(\"Digite seu salario: \"))\n",
        "aumento= salario\n",
        "if salario >= 1250:\n",
        "  aumento = aumento + (salario*0.10)\n",
        "  print(\"o novo salario será de {}\".format(aumento))\n",
        "else:\n",
        "  aumento = aumento + (salario*0.15)\n",
        "  print(\"o novo salario será de {}\".format(aumento))"
      ],
      "metadata": {
        "colab": {
          "base_uri": "https://localhost:8080/"
        },
        "id": "H1AUcZwmkY67",
        "outputId": "0cbbfd06-dd90-48a7-84ed-7210447e08be"
      },
      "execution_count": null,
      "outputs": [
        {
          "output_type": "stream",
          "name": "stdout",
          "text": [
            "Digite seu salario: 1000\n",
            "o novo salario será de 1150.0\n"
          ]
        }
      ]
    },
    {
      "cell_type": "code",
      "source": [
        ""
      ],
      "metadata": {
        "id": "3L1Plbacv6fL"
      },
      "execution_count": null,
      "outputs": []
    }
  ]
}